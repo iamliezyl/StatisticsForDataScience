{
 "cells": [
  {
   "cell_type": "code",
   "execution_count": 1,
   "id": "af3f2251",
   "metadata": {},
   "outputs": [],
   "source": [
    "import pandas as pd\n",
    "import numpy as np"
   ]
  },
  {
   "cell_type": "code",
   "execution_count": 2,
   "id": "8f8060be",
   "metadata": {},
   "outputs": [
    {
     "data": {
      "text/html": [
       "<div>\n",
       "<style scoped>\n",
       "    .dataframe tbody tr th:only-of-type {\n",
       "        vertical-align: middle;\n",
       "    }\n",
       "\n",
       "    .dataframe tbody tr th {\n",
       "        vertical-align: top;\n",
       "    }\n",
       "\n",
       "    .dataframe thead th {\n",
       "        text-align: right;\n",
       "    }\n",
       "</style>\n",
       "<table border=\"1\" class=\"dataframe\">\n",
       "  <thead>\n",
       "    <tr style=\"text-align: right;\">\n",
       "      <th></th>\n",
       "      <th>date</th>\n",
       "      <th>date_block_num</th>\n",
       "      <th>shop_id</th>\n",
       "      <th>item_id</th>\n",
       "      <th>item_price</th>\n",
       "      <th>item_cnt_day</th>\n",
       "    </tr>\n",
       "  </thead>\n",
       "  <tbody>\n",
       "    <tr>\n",
       "      <th>0</th>\n",
       "      <td>02.01.2013</td>\n",
       "      <td>0</td>\n",
       "      <td>59</td>\n",
       "      <td>22154</td>\n",
       "      <td>999.00</td>\n",
       "      <td>1</td>\n",
       "    </tr>\n",
       "    <tr>\n",
       "      <th>1</th>\n",
       "      <td>03.01.2013</td>\n",
       "      <td>0</td>\n",
       "      <td>25</td>\n",
       "      <td>2552</td>\n",
       "      <td>899.00</td>\n",
       "      <td>1</td>\n",
       "    </tr>\n",
       "    <tr>\n",
       "      <th>2</th>\n",
       "      <td>05.01.2013</td>\n",
       "      <td>0</td>\n",
       "      <td>25</td>\n",
       "      <td>2552</td>\n",
       "      <td>899.00</td>\n",
       "      <td>-1</td>\n",
       "    </tr>\n",
       "    <tr>\n",
       "      <th>3</th>\n",
       "      <td>06.01.2013</td>\n",
       "      <td>0</td>\n",
       "      <td>25</td>\n",
       "      <td>2554</td>\n",
       "      <td>1709.05</td>\n",
       "      <td>1</td>\n",
       "    </tr>\n",
       "    <tr>\n",
       "      <th>4</th>\n",
       "      <td>15.01.2013</td>\n",
       "      <td>0</td>\n",
       "      <td>25</td>\n",
       "      <td>2555</td>\n",
       "      <td>1099.00</td>\n",
       "      <td>1</td>\n",
       "    </tr>\n",
       "    <tr>\n",
       "      <th>...</th>\n",
       "      <td>...</td>\n",
       "      <td>...</td>\n",
       "      <td>...</td>\n",
       "      <td>...</td>\n",
       "      <td>...</td>\n",
       "      <td>...</td>\n",
       "    </tr>\n",
       "    <tr>\n",
       "      <th>1043241</th>\n",
       "      <td>07.11.2013</td>\n",
       "      <td>10</td>\n",
       "      <td>37</td>\n",
       "      <td>18474</td>\n",
       "      <td>199.00</td>\n",
       "      <td>1</td>\n",
       "    </tr>\n",
       "    <tr>\n",
       "      <th>1043242</th>\n",
       "      <td>18.11.2013</td>\n",
       "      <td>10</td>\n",
       "      <td>37</td>\n",
       "      <td>18474</td>\n",
       "      <td>199.00</td>\n",
       "      <td>1</td>\n",
       "    </tr>\n",
       "    <tr>\n",
       "      <th>1043243</th>\n",
       "      <td>24.11.2013</td>\n",
       "      <td>10</td>\n",
       "      <td>37</td>\n",
       "      <td>18484</td>\n",
       "      <td>199.00</td>\n",
       "      <td>1</td>\n",
       "    </tr>\n",
       "    <tr>\n",
       "      <th>1043244</th>\n",
       "      <td>11.11.2013</td>\n",
       "      <td>10</td>\n",
       "      <td>37</td>\n",
       "      <td>19751</td>\n",
       "      <td>99.00</td>\n",
       "      <td>1</td>\n",
       "    </tr>\n",
       "    <tr>\n",
       "      <th>1043245</th>\n",
       "      <td>26.11.2013</td>\n",
       "      <td>10</td>\n",
       "      <td>37</td>\n",
       "      <td>18498</td>\n",
       "      <td>199.00</td>\n",
       "      <td>1</td>\n",
       "    </tr>\n",
       "  </tbody>\n",
       "</table>\n",
       "<p>1043246 rows × 6 columns</p>\n",
       "</div>"
      ],
      "text/plain": [
       "               date  date_block_num  shop_id  item_id  item_price  \\\n",
       "0        02.01.2013               0       59    22154      999.00   \n",
       "1        03.01.2013               0       25     2552      899.00   \n",
       "2        05.01.2013               0       25     2552      899.00   \n",
       "3        06.01.2013               0       25     2554     1709.05   \n",
       "4        15.01.2013               0       25     2555     1099.00   \n",
       "...             ...             ...      ...      ...         ...   \n",
       "1043241  07.11.2013              10       37    18474      199.00   \n",
       "1043242  18.11.2013              10       37    18474      199.00   \n",
       "1043243  24.11.2013              10       37    18484      199.00   \n",
       "1043244  11.11.2013              10       37    19751       99.00   \n",
       "1043245  26.11.2013              10       37    18498      199.00   \n",
       "\n",
       "         item_cnt_day  \n",
       "0                   1  \n",
       "1                   1  \n",
       "2                  -1  \n",
       "3                   1  \n",
       "4                   1  \n",
       "...               ...  \n",
       "1043241             1  \n",
       "1043242             1  \n",
       "1043243             1  \n",
       "1043244             1  \n",
       "1043245             1  \n",
       "\n",
       "[1043246 rows x 6 columns]"
      ]
     },
     "execution_count": 2,
     "metadata": {},
     "output_type": "execute_result"
    }
   ],
   "source": [
    "df = pd.read_csv(r\"D:\\tutorials\\PROGRAMMING\\Statistics For Machine Learning\\sales_train.csv\")\n",
    "df"
   ]
  },
  {
   "cell_type": "code",
   "execution_count": 4,
   "id": "1440e34f",
   "metadata": {},
   "outputs": [
    {
     "data": {
      "text/html": [
       "<div>\n",
       "<style scoped>\n",
       "    .dataframe tbody tr th:only-of-type {\n",
       "        vertical-align: middle;\n",
       "    }\n",
       "\n",
       "    .dataframe tbody tr th {\n",
       "        vertical-align: top;\n",
       "    }\n",
       "\n",
       "    .dataframe thead th {\n",
       "        text-align: right;\n",
       "    }\n",
       "</style>\n",
       "<table border=\"1\" class=\"dataframe\">\n",
       "  <thead>\n",
       "    <tr style=\"text-align: right;\">\n",
       "      <th></th>\n",
       "      <th>date_block_num</th>\n",
       "      <th>shop_id</th>\n",
       "      <th>item_id</th>\n",
       "      <th>item_price</th>\n",
       "      <th>item_cnt_day</th>\n",
       "    </tr>\n",
       "  </thead>\n",
       "  <tbody>\n",
       "    <tr>\n",
       "      <th>count</th>\n",
       "      <td>1043246.00</td>\n",
       "      <td>1043246.00</td>\n",
       "      <td>1043246.00</td>\n",
       "      <td>1043246.00</td>\n",
       "      <td>1043246.00</td>\n",
       "    </tr>\n",
       "    <tr>\n",
       "      <th>mean</th>\n",
       "      <td>4.47</td>\n",
       "      <td>32.45</td>\n",
       "      <td>10242.60</td>\n",
       "      <td>682.37</td>\n",
       "      <td>1.22</td>\n",
       "    </tr>\n",
       "    <tr>\n",
       "      <th>std</th>\n",
       "      <td>2.97</td>\n",
       "      <td>16.26</td>\n",
       "      <td>6305.36</td>\n",
       "      <td>1124.83</td>\n",
       "      <td>1.60</td>\n",
       "    </tr>\n",
       "    <tr>\n",
       "      <th>min</th>\n",
       "      <td>0.00</td>\n",
       "      <td>0.00</td>\n",
       "      <td>12.00</td>\n",
       "      <td>-1.00</td>\n",
       "      <td>-6.00</td>\n",
       "    </tr>\n",
       "    <tr>\n",
       "      <th>25%</th>\n",
       "      <td>2.00</td>\n",
       "      <td>22.00</td>\n",
       "      <td>4548.00</td>\n",
       "      <td>199.00</td>\n",
       "      <td>1.00</td>\n",
       "    </tr>\n",
       "    <tr>\n",
       "      <th>50%</th>\n",
       "      <td>4.00</td>\n",
       "      <td>30.00</td>\n",
       "      <td>9691.00</td>\n",
       "      <td>399.00</td>\n",
       "      <td>1.00</td>\n",
       "    </tr>\n",
       "    <tr>\n",
       "      <th>75%</th>\n",
       "      <td>7.00</td>\n",
       "      <td>47.00</td>\n",
       "      <td>15618.75</td>\n",
       "      <td>699.30</td>\n",
       "      <td>1.00</td>\n",
       "    </tr>\n",
       "    <tr>\n",
       "      <th>max</th>\n",
       "      <td>10.00</td>\n",
       "      <td>59.00</td>\n",
       "      <td>22168.00</td>\n",
       "      <td>59200.00</td>\n",
       "      <td>288.00</td>\n",
       "    </tr>\n",
       "  </tbody>\n",
       "</table>\n",
       "</div>"
      ],
      "text/plain": [
       "       date_block_num     shop_id     item_id  item_price  item_cnt_day\n",
       "count      1043246.00  1043246.00  1043246.00  1043246.00    1043246.00\n",
       "mean             4.47       32.45    10242.60      682.37          1.22\n",
       "std              2.97       16.26     6305.36     1124.83          1.60\n",
       "min              0.00        0.00       12.00       -1.00         -6.00\n",
       "25%              2.00       22.00     4548.00      199.00          1.00\n",
       "50%              4.00       30.00     9691.00      399.00          1.00\n",
       "75%              7.00       47.00    15618.75      699.30          1.00\n",
       "max             10.00       59.00    22168.00    59200.00        288.00"
      ]
     },
     "execution_count": 4,
     "metadata": {},
     "output_type": "execute_result"
    }
   ],
   "source": [
    "# 5 point number summary\n",
    "# measure of position\n",
    "round(df.describe(),2)"
   ]
  },
  {
   "cell_type": "code",
   "execution_count": 6,
   "id": "fc188247",
   "metadata": {},
   "outputs": [
    {
     "data": {
      "text/plain": [
       "59201.0"
      ]
     },
     "execution_count": 6,
     "metadata": {},
     "output_type": "execute_result"
    }
   ],
   "source": [
    "# measures of spread\n",
    "\n",
    "#range\n",
    "np.ptp(df['item_price'])"
   ]
  },
  {
   "cell_type": "code",
   "execution_count": 7,
   "id": "73e4563d",
   "metadata": {},
   "outputs": [
    {
     "data": {
      "text/plain": [
       "500.29999999999995"
      ]
     },
     "execution_count": 7,
     "metadata": {},
     "output_type": "execute_result"
    }
   ],
   "source": [
    "# IQR\n",
    "from scipy.stats import iqr\n",
    "\n",
    "iqr(df['item_price'])"
   ]
  },
  {
   "cell_type": "code",
   "execution_count": 17,
   "id": "2c05ffac",
   "metadata": {},
   "outputs": [
    {
     "name": "stdout",
     "output_type": "stream",
     "text": [
      "Pearson Kurtosis: 92.66\n"
     ]
    }
   ],
   "source": [
    "# Kurtosis\n",
    "from scipy.stats import kurtosis\n",
    "\n",
    "print(f\"Pearson Kurtosis: {round(kurtosis(df['item_price'], fisher = False),2)}\")"
   ]
  },
  {
   "cell_type": "code",
   "execution_count": 18,
   "id": "b1a0e636",
   "metadata": {},
   "outputs": [
    {
     "name": "stdout",
     "output_type": "stream",
     "text": [
      "Fisher Kurtosis: 89.66\n"
     ]
    }
   ],
   "source": [
    "print(f\"Fisher Kurtosis: {round(kurtosis(df['item_price'], fisher = True),2)}\")"
   ]
  },
  {
   "cell_type": "code",
   "execution_count": 19,
   "id": "0009d763",
   "metadata": {},
   "outputs": [
    {
     "data": {
      "text/plain": [
       "7.754518597379134"
      ]
     },
     "execution_count": 19,
     "metadata": {},
     "output_type": "execute_result"
    }
   ],
   "source": [
    "# Skewness\n",
    "\n",
    "from scipy.stats import skew\n",
    "skew(df['item_price'])"
   ]
  },
  {
   "cell_type": "code",
   "execution_count": 20,
   "id": "2266b54f",
   "metadata": {},
   "outputs": [
    {
     "data": {
      "text/plain": [
       "699.3"
      ]
     },
     "execution_count": 20,
     "metadata": {},
     "output_type": "execute_result"
    }
   ],
   "source": [
    "# Percentile\n",
    "np.percentile(df['item_price'], 75)"
   ]
  },
  {
   "cell_type": "code",
   "execution_count": 21,
   "id": "c14253bb",
   "metadata": {},
   "outputs": [
    {
     "data": {
      "text/plain": [
       "0          0.281496\n",
       "1          0.192593\n",
       "2          0.192593\n",
       "3          0.912748\n",
       "4          0.370398\n",
       "             ...   \n",
       "1043241   -0.429724\n",
       "1043242   -0.429724\n",
       "1043243   -0.429724\n",
       "1043244   -0.518626\n",
       "1043245   -0.429724\n",
       "Name: item_price, Length: 1043246, dtype: float64"
      ]
     },
     "execution_count": 21,
     "metadata": {},
     "output_type": "execute_result"
    }
   ],
   "source": [
    "# Z Score\n",
    "\n",
    "from scipy.stats import zscore\n",
    "zscore(df['item_price'])"
   ]
  },
  {
   "cell_type": "code",
   "execution_count": 22,
   "id": "2a68efe9",
   "metadata": {},
   "outputs": [
    {
     "data": {
      "text/plain": [
       "array([[ 0.28149591],\n",
       "       [ 0.19259347],\n",
       "       [ 0.19259347],\n",
       "       ...,\n",
       "       [-0.42972364],\n",
       "       [-0.51862608],\n",
       "       [-0.42972364]])"
      ]
     },
     "execution_count": 22,
     "metadata": {},
     "output_type": "execute_result"
    }
   ],
   "source": [
    "# Reshape to array\n",
    "from sklearn.preprocessing import StandardScaler\n",
    "\n",
    "ss = StandardScaler()\n",
    "ss.fit_transform(df['item_price'].values.reshape(-1,1))  #this means 1 row"
   ]
  },
  {
   "cell_type": "code",
   "execution_count": null,
   "id": "cf0f47fc",
   "metadata": {},
   "outputs": [],
   "source": []
  }
 ],
 "metadata": {
  "kernelspec": {
   "display_name": "Python 3 (ipykernel)",
   "language": "python",
   "name": "python3"
  },
  "language_info": {
   "codemirror_mode": {
    "name": "ipython",
    "version": 3
   },
   "file_extension": ".py",
   "mimetype": "text/x-python",
   "name": "python",
   "nbconvert_exporter": "python",
   "pygments_lexer": "ipython3",
   "version": "3.7.0"
  }
 },
 "nbformat": 4,
 "nbformat_minor": 5
}
