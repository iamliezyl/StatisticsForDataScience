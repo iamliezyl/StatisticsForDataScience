{
 "cells": [
  {
   "cell_type": "code",
   "execution_count": 2,
   "id": "ee615a63",
   "metadata": {},
   "outputs": [],
   "source": [
    "import pandas as pd\n",
    "import numpy as np"
   ]
  },
  {
   "cell_type": "code",
   "execution_count": 4,
   "id": "f5b77725",
   "metadata": {},
   "outputs": [
    {
     "data": {
      "text/html": [
       "<div>\n",
       "<style scoped>\n",
       "    .dataframe tbody tr th:only-of-type {\n",
       "        vertical-align: middle;\n",
       "    }\n",
       "\n",
       "    .dataframe tbody tr th {\n",
       "        vertical-align: top;\n",
       "    }\n",
       "\n",
       "    .dataframe thead th {\n",
       "        text-align: right;\n",
       "    }\n",
       "</style>\n",
       "<table border=\"1\" class=\"dataframe\">\n",
       "  <thead>\n",
       "    <tr style=\"text-align: right;\">\n",
       "      <th></th>\n",
       "      <th>CustomerID</th>\n",
       "      <th>CustomerGender</th>\n",
       "      <th>CustomerAge</th>\n",
       "      <th>CustomerCity</th>\n",
       "      <th>AnnualIncome</th>\n",
       "      <th>CreditScore</th>\n",
       "      <th>SpendingScore</th>\n",
       "      <th>CustomerCityID</th>\n",
       "    </tr>\n",
       "  </thead>\n",
       "  <tbody>\n",
       "    <tr>\n",
       "      <th>0</th>\n",
       "      <td>1001</td>\n",
       "      <td>Male</td>\n",
       "      <td>49</td>\n",
       "      <td>Bengaluru</td>\n",
       "      <td>527547.58850</td>\n",
       "      <td>653</td>\n",
       "      <td>78</td>\n",
       "      <td>1</td>\n",
       "    </tr>\n",
       "    <tr>\n",
       "      <th>1</th>\n",
       "      <td>1002</td>\n",
       "      <td>Male</td>\n",
       "      <td>59</td>\n",
       "      <td>Bengaluru</td>\n",
       "      <td>207143.19760</td>\n",
       "      <td>630</td>\n",
       "      <td>63</td>\n",
       "      <td>1</td>\n",
       "    </tr>\n",
       "    <tr>\n",
       "      <th>2</th>\n",
       "      <td>1003</td>\n",
       "      <td>Female</td>\n",
       "      <td>54</td>\n",
       "      <td>Delhi</td>\n",
       "      <td>164423.84570</td>\n",
       "      <td>555</td>\n",
       "      <td>69</td>\n",
       "      <td>4</td>\n",
       "    </tr>\n",
       "    <tr>\n",
       "      <th>3</th>\n",
       "      <td>1004</td>\n",
       "      <td>Female</td>\n",
       "      <td>42</td>\n",
       "      <td>Bengaluru</td>\n",
       "      <td>56220.36443</td>\n",
       "      <td>699</td>\n",
       "      <td>30</td>\n",
       "      <td>1</td>\n",
       "    </tr>\n",
       "    <tr>\n",
       "      <th>4</th>\n",
       "      <td>1005</td>\n",
       "      <td>Female</td>\n",
       "      <td>30</td>\n",
       "      <td>Bengaluru</td>\n",
       "      <td>256194.36190</td>\n",
       "      <td>793</td>\n",
       "      <td>6</td>\n",
       "      <td>1</td>\n",
       "    </tr>\n",
       "    <tr>\n",
       "      <th>...</th>\n",
       "      <td>...</td>\n",
       "      <td>...</td>\n",
       "      <td>...</td>\n",
       "      <td>...</td>\n",
       "      <td>...</td>\n",
       "      <td>...</td>\n",
       "      <td>...</td>\n",
       "      <td>...</td>\n",
       "    </tr>\n",
       "    <tr>\n",
       "      <th>195</th>\n",
       "      <td>1196</td>\n",
       "      <td>Female</td>\n",
       "      <td>54</td>\n",
       "      <td>Delhi</td>\n",
       "      <td>317466.42070</td>\n",
       "      <td>601</td>\n",
       "      <td>52</td>\n",
       "      <td>4</td>\n",
       "    </tr>\n",
       "    <tr>\n",
       "      <th>196</th>\n",
       "      <td>1197</td>\n",
       "      <td>Female</td>\n",
       "      <td>20</td>\n",
       "      <td>Bengaluru</td>\n",
       "      <td>323305.50020</td>\n",
       "      <td>554</td>\n",
       "      <td>58</td>\n",
       "      <td>1</td>\n",
       "    </tr>\n",
       "    <tr>\n",
       "      <th>197</th>\n",
       "      <td>1198</td>\n",
       "      <td>Male</td>\n",
       "      <td>44</td>\n",
       "      <td>Chennai</td>\n",
       "      <td>109058.54430</td>\n",
       "      <td>844</td>\n",
       "      <td>36</td>\n",
       "      <td>2</td>\n",
       "    </tr>\n",
       "    <tr>\n",
       "      <th>198</th>\n",
       "      <td>1199</td>\n",
       "      <td>Male</td>\n",
       "      <td>28</td>\n",
       "      <td>Delhi</td>\n",
       "      <td>160116.89300</td>\n",
       "      <td>837</td>\n",
       "      <td>24</td>\n",
       "      <td>4</td>\n",
       "    </tr>\n",
       "    <tr>\n",
       "      <th>199</th>\n",
       "      <td>1200</td>\n",
       "      <td>Male</td>\n",
       "      <td>41</td>\n",
       "      <td>Chennai</td>\n",
       "      <td>280081.39010</td>\n",
       "      <td>789</td>\n",
       "      <td>31</td>\n",
       "      <td>2</td>\n",
       "    </tr>\n",
       "  </tbody>\n",
       "</table>\n",
       "<p>200 rows × 8 columns</p>\n",
       "</div>"
      ],
      "text/plain": [
       "     CustomerID CustomerGender  CustomerAge CustomerCity  AnnualIncome  \\\n",
       "0          1001           Male           49    Bengaluru  527547.58850   \n",
       "1          1002           Male           59    Bengaluru  207143.19760   \n",
       "2          1003         Female           54        Delhi  164423.84570   \n",
       "3          1004         Female           42    Bengaluru   56220.36443   \n",
       "4          1005         Female           30    Bengaluru  256194.36190   \n",
       "..          ...            ...          ...          ...           ...   \n",
       "195        1196         Female           54        Delhi  317466.42070   \n",
       "196        1197         Female           20    Bengaluru  323305.50020   \n",
       "197        1198           Male           44      Chennai  109058.54430   \n",
       "198        1199           Male           28        Delhi  160116.89300   \n",
       "199        1200           Male           41      Chennai  280081.39010   \n",
       "\n",
       "     CreditScore  SpendingScore  CustomerCityID  \n",
       "0            653             78               1  \n",
       "1            630             63               1  \n",
       "2            555             69               4  \n",
       "3            699             30               1  \n",
       "4            793              6               1  \n",
       "..           ...            ...             ...  \n",
       "195          601             52               4  \n",
       "196          554             58               1  \n",
       "197          844             36               2  \n",
       "198          837             24               4  \n",
       "199          789             31               2  \n",
       "\n",
       "[200 rows x 8 columns]"
      ]
     },
     "execution_count": 4,
     "metadata": {},
     "output_type": "execute_result"
    }
   ],
   "source": [
    "df = pd.read_csv(r\"D:\\tutorials\\PROGRAMMING\\Statistics For Machine Learning\\customer_income_data.csv\")\n",
    "df"
   ]
  },
  {
   "cell_type": "code",
   "execution_count": 5,
   "id": "d4cd5435",
   "metadata": {},
   "outputs": [
    {
     "data": {
      "text/plain": [
       "CustomerID        0\n",
       "CustomerGender    0\n",
       "CustomerAge       0\n",
       "CustomerCity      0\n",
       "AnnualIncome      0\n",
       "CreditScore       0\n",
       "SpendingScore     0\n",
       "CustomerCityID    0\n",
       "dtype: int64"
      ]
     },
     "execution_count": 5,
     "metadata": {},
     "output_type": "execute_result"
    }
   ],
   "source": [
    "# Check for null values\n",
    "\n",
    "df.isnull().sum()"
   ]
  },
  {
   "cell_type": "code",
   "execution_count": 10,
   "id": "b22af4ac",
   "metadata": {},
   "outputs": [
    {
     "data": {
      "text/html": [
       "<div>\n",
       "<style scoped>\n",
       "    .dataframe tbody tr th:only-of-type {\n",
       "        vertical-align: middle;\n",
       "    }\n",
       "\n",
       "    .dataframe tbody tr th {\n",
       "        vertical-align: top;\n",
       "    }\n",
       "\n",
       "    .dataframe thead th {\n",
       "        text-align: right;\n",
       "    }\n",
       "</style>\n",
       "<table border=\"1\" class=\"dataframe\">\n",
       "  <thead>\n",
       "    <tr style=\"text-align: right;\">\n",
       "      <th></th>\n",
       "      <th>AnnualIncome</th>\n",
       "      <th>SpendingScore</th>\n",
       "    </tr>\n",
       "  </thead>\n",
       "  <tbody>\n",
       "    <tr>\n",
       "      <th>count</th>\n",
       "      <td>200.000000</td>\n",
       "      <td>200.00000</td>\n",
       "    </tr>\n",
       "    <tr>\n",
       "      <th>mean</th>\n",
       "      <td>285143.931646</td>\n",
       "      <td>50.70500</td>\n",
       "    </tr>\n",
       "    <tr>\n",
       "      <th>std</th>\n",
       "      <td>169229.187619</td>\n",
       "      <td>28.72269</td>\n",
       "    </tr>\n",
       "    <tr>\n",
       "      <th>min</th>\n",
       "      <td>2577.057456</td>\n",
       "      <td>2.00000</td>\n",
       "    </tr>\n",
       "    <tr>\n",
       "      <th>25%</th>\n",
       "      <td>153227.340950</td>\n",
       "      <td>27.75000</td>\n",
       "    </tr>\n",
       "    <tr>\n",
       "      <th>50%</th>\n",
       "      <td>263418.505550</td>\n",
       "      <td>48.00000</td>\n",
       "    </tr>\n",
       "    <tr>\n",
       "      <th>75%</th>\n",
       "      <td>384857.116200</td>\n",
       "      <td>77.00000</td>\n",
       "    </tr>\n",
       "    <tr>\n",
       "      <th>max</th>\n",
       "      <td>695407.091700</td>\n",
       "      <td>100.00000</td>\n",
       "    </tr>\n",
       "  </tbody>\n",
       "</table>\n",
       "</div>"
      ],
      "text/plain": [
       "        AnnualIncome  SpendingScore\n",
       "count     200.000000      200.00000\n",
       "mean   285143.931646       50.70500\n",
       "std    169229.187619       28.72269\n",
       "min      2577.057456        2.00000\n",
       "25%    153227.340950       27.75000\n",
       "50%    263418.505550       48.00000\n",
       "75%    384857.116200       77.00000\n",
       "max    695407.091700      100.00000"
      ]
     },
     "execution_count": 10,
     "metadata": {},
     "output_type": "execute_result"
    }
   ],
   "source": [
    "# 5 point number summary \n",
    "\n",
    "df[['AnnualIncome','SpendingScore']].describe()"
   ]
  },
  {
   "cell_type": "code",
   "execution_count": 7,
   "id": "1c3c5132",
   "metadata": {},
   "outputs": [
    {
     "data": {
      "text/plain": [
       "28638517942.28571"
      ]
     },
     "execution_count": 7,
     "metadata": {},
     "output_type": "execute_result"
    }
   ],
   "source": [
    "df['AnnualIncome'].var()"
   ]
  },
  {
   "cell_type": "code",
   "execution_count": 8,
   "id": "a3632604",
   "metadata": {},
   "outputs": [
    {
     "data": {
      "text/plain": [
       "169229.18761929253"
      ]
     },
     "execution_count": 8,
     "metadata": {},
     "output_type": "execute_result"
    }
   ],
   "source": [
    "df['AnnualIncome'].std()"
   ]
  },
  {
   "cell_type": "code",
   "execution_count": 11,
   "id": "e4df56a1",
   "metadata": {},
   "outputs": [
    {
     "data": {
      "text/plain": [
       "824.9929396984925"
      ]
     },
     "execution_count": 11,
     "metadata": {},
     "output_type": "execute_result"
    }
   ],
   "source": [
    "df['SpendingScore'].var()"
   ]
  },
  {
   "cell_type": "code",
   "execution_count": 12,
   "id": "37ab9aa4",
   "metadata": {},
   "outputs": [
    {
     "data": {
      "text/plain": [
       "28.722690328353515"
      ]
     },
     "execution_count": 12,
     "metadata": {},
     "output_type": "execute_result"
    }
   ],
   "source": [
    "df['SpendingScore'].std()"
   ]
  },
  {
   "cell_type": "code",
   "execution_count": 14,
   "id": "cd9822fe",
   "metadata": {},
   "outputs": [
    {
     "data": {
      "text/plain": [
       "0.10081837365183154"
      ]
     },
     "execution_count": 14,
     "metadata": {},
     "output_type": "execute_result"
    }
   ],
   "source": [
    "from scipy.stats import skew\n",
    "skew(df['SpendingScore'])   # result is greater than 0, therefore it is positively skewed"
   ]
  },
  {
   "cell_type": "code",
   "execution_count": 15,
   "id": "30b27a29",
   "metadata": {},
   "outputs": [
    {
     "data": {
      "text/plain": [
       "-1.169118698099353"
      ]
     },
     "execution_count": 15,
     "metadata": {},
     "output_type": "execute_result"
    }
   ],
   "source": [
    "from scipy.stats import kurtosis\n",
    "kurtosis(df['SpendingScore'])"
   ]
  },
  {
   "cell_type": "code",
   "execution_count": null,
   "id": "c439cef0",
   "metadata": {},
   "outputs": [],
   "source": [
    "# DETECTING OUTLERS BASED ON ZSCORE\n",
    "\n",
    "# Determine ZScore\n",
    "from scipy.stats import zscore\n"
   ]
  }
 ],
 "metadata": {
  "kernelspec": {
   "display_name": "Python 3 (ipykernel)",
   "language": "python",
   "name": "python3"
  },
  "language_info": {
   "codemirror_mode": {
    "name": "ipython",
    "version": 3
   },
   "file_extension": ".py",
   "mimetype": "text/x-python",
   "name": "python",
   "nbconvert_exporter": "python",
   "pygments_lexer": "ipython3",
   "version": "3.7.0"
  }
 },
 "nbformat": 4,
 "nbformat_minor": 5
}
